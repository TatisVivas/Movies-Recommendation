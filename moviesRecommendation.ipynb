{
  "nbformat": 4,
  "nbformat_minor": 0,
  "metadata": {
    "colab": {
      "provenance": []
    },
    "kernelspec": {
      "name": "python3",
      "display_name": "Python 3"
    },
    "language_info": {
      "name": "python"
    }
  },
  "cells": [
    {
      "cell_type": "markdown",
      "source": [
        "# Sistema de Recomendación de Películas\n",
        "\n",
        "Este proyecto implementa un sistema de recomendación de películas basado en contenido, usando el dataset TMDB 5000. Permite buscar películas por títulos parciales o con errores tipográficos (por ejemplo, \"The lord of rings\") y recomienda películas similares basadas en géneros, palabras clave, elenco, director y sinopsis. Utiliza TF-IDF para vectorización y similitud coseno para encontrar películas relacionadas.\n",
        "\n"
      ],
      "metadata": {
        "id": "VlxgsC6okDm-"
      }
    },
    {
      "cell_type": "markdown",
      "source": [
        "## 1. Importación de Librerías\n",
        "\n",
        "Se importan las librerías necesarias para el procesamiento de datos, vectorización, cálculo de similitud y búsqueda difusa de títulos."
      ],
      "metadata": {
        "id": "jpF-1lPakSdI"
      }
    },
    {
      "cell_type": "code",
      "source": [
        "import pandas as pd\n",
        "import numpy as np\n",
        "from ast import literal_eval\n",
        "from sklearn.feature_extraction.text import TfidfVectorizer\n",
        "from sklearn.metrics.pairwise import cosine_similarity\n",
        "from fuzzywuzzy import process"
      ],
      "metadata": {
        "id": "Ax1pB2hXjuOw"
      },
      "execution_count": 26,
      "outputs": []
    },
    {
      "cell_type": "code",
      "metadata": {
        "colab": {
          "base_uri": "https://localhost:8080/"
        },
        "collapsed": true,
        "id": "c7a982dd",
        "outputId": "551de6b1-e620-404d-8eeb-3c98de7a5906"
      },
      "source": [
        "%pip install fuzzywuzzy\n",
        "%pip install python-Levenshtein"
      ],
      "execution_count": 24,
      "outputs": [
        {
          "output_type": "stream",
          "name": "stdout",
          "text": [
            "Collecting fuzzywuzzy\n",
            "  Downloading fuzzywuzzy-0.18.0-py2.py3-none-any.whl.metadata (4.9 kB)\n",
            "Downloading fuzzywuzzy-0.18.0-py2.py3-none-any.whl (18 kB)\n",
            "Installing collected packages: fuzzywuzzy\n",
            "Successfully installed fuzzywuzzy-0.18.0\n",
            "Collecting python-Levenshtein\n",
            "  Downloading python_levenshtein-0.27.1-py3-none-any.whl.metadata (3.7 kB)\n",
            "Collecting Levenshtein==0.27.1 (from python-Levenshtein)\n",
            "  Downloading levenshtein-0.27.1-cp312-cp312-manylinux_2_17_x86_64.manylinux2014_x86_64.whl.metadata (3.6 kB)\n",
            "Collecting rapidfuzz<4.0.0,>=3.9.0 (from Levenshtein==0.27.1->python-Levenshtein)\n",
            "  Downloading rapidfuzz-3.13.0-cp312-cp312-manylinux_2_17_x86_64.manylinux2014_x86_64.whl.metadata (12 kB)\n",
            "Downloading python_levenshtein-0.27.1-py3-none-any.whl (9.4 kB)\n",
            "Downloading levenshtein-0.27.1-cp312-cp312-manylinux_2_17_x86_64.manylinux2014_x86_64.whl (159 kB)\n",
            "\u001b[2K   \u001b[90m━━━━━━━━━━━━━━━━━━━━━━━━━━━━━━━━━━━━━━━━\u001b[0m \u001b[32m159.9/159.9 kB\u001b[0m \u001b[31m8.7 MB/s\u001b[0m eta \u001b[36m0:00:00\u001b[0m\n",
            "\u001b[?25hDownloading rapidfuzz-3.13.0-cp312-cp312-manylinux_2_17_x86_64.manylinux2014_x86_64.whl (3.1 MB)\n",
            "\u001b[2K   \u001b[90m━━━━━━━━━━━━━━━━━━━━━━━━━━━━━━━━━━━━━━━━\u001b[0m \u001b[32m3.1/3.1 MB\u001b[0m \u001b[31m50.7 MB/s\u001b[0m eta \u001b[36m0:00:00\u001b[0m\n",
            "\u001b[?25hInstalling collected packages: rapidfuzz, Levenshtein, python-Levenshtein\n",
            "Successfully installed Levenshtein-0.27.1 python-Levenshtein-0.27.1 rapidfuzz-3.13.0\n"
          ]
        }
      ]
    },
    {
      "cell_type": "markdown",
      "source": [
        "## 2. Carga y Unión de Datasets\n",
        "\n",
        "Cargamos los archivos `tmdb_5000_movies.csv` y `tmdb_5000_credits.csv`, y los unimos por el campo `id` para combinar información de películas (sinopsis, géneros) con créditos (elenco, director)."
      ],
      "metadata": {
        "id": "xJBFZXBYkZgE"
      }
    },
    {
      "cell_type": "code",
      "source": [
        "# Cargar datasets\n",
        "movies = pd.read_csv('tmdb_5000_movies.csv')\n",
        "credits = pd.read_csv('tmdb_5000_credits.csv')\n",
        "\n",
        "# Unir por 'id' (renombramos 'movie_id' en credits a 'id')\n",
        "credits = credits.rename(columns={'movie_id': 'id'})\n",
        "df = movies.merge(credits, on='id')\n",
        "\n",
        "# Seleccionar columnas útiles\n",
        "df = df[['id', 'title_x', 'overview', 'genres', 'keywords', 'cast', 'crew']]\n",
        "df = df.rename(columns={'title_x': 'title'})\n"
      ],
      "metadata": {
        "id": "ULUlc3-ojxEw"
      },
      "execution_count": 27,
      "outputs": []
    },
    {
      "cell_type": "markdown",
      "source": [
        "## 3. Limpieza de Datos\n",
        "\n",
        "Limpiamos los datos manejando valores nulos y convirtiendo campos JSON (genres, keywords, cast, crew) en listas utilizables. Extraemos hasta 3 géneros, palabras clave y actores por película, y el nombre del director.\n"
      ],
      "metadata": {
        "id": "TpyE2qSSkgeE"
      }
    },
    {
      "cell_type": "code",
      "source": [
        "# Limpiar nulos\n",
        "df['overview'] = df['overview'].fillna('')\n",
        "\n",
        "# Función para extraer nombres de géneros y keywords\n",
        "def get_list(x):\n",
        "    if isinstance(x, list):\n",
        "        names = [i['name'] for i in x]\n",
        "        return names[:3] if len(names) > 3 else names\n",
        "    return []\n",
        "\n",
        "# Función para extraer director de crew\n",
        "def get_director(x):\n",
        "    for i in x:\n",
        "        if i['job'] == 'Director':\n",
        "            return i['name']\n",
        "    return np.nan\n",
        "\n",
        "# Función para extraer actores de cast\n",
        "def get_actors(x):\n",
        "    if isinstance(x, list):\n",
        "        names = [i['name'] for i in x]\n",
        "        return names[:3] if len(names) > 3 else names\n",
        "    return []\n",
        "\n",
        "# Aplicar conversiones (genres, keywords, cast y crew son strings JSON)\n",
        "features = ['genres', 'keywords', 'cast', 'crew']\n",
        "for feature in features:\n",
        "    df[feature] = df[feature].apply(literal_eval)\n",
        "\n",
        "df['genres'] = df['genres'].apply(get_list)\n",
        "df['keywords'] = df['keywords'].apply(get_list)\n",
        "df['cast'] = df['cast'].apply(get_actors)\n",
        "df['director'] = df['crew'].apply(get_director)\n",
        "df['director'] = df['director'].fillna('').apply(lambda x: [x])\n"
      ],
      "metadata": {
        "id": "ZqdMmxIKj1A8"
      },
      "execution_count": 29,
      "outputs": []
    },
    {
      "cell_type": "markdown",
      "source": [
        "## 4. Creación de la Sopa de Características\n",
        "\n",
        "Combinamos géneros, palabras clave, elenco, director y sinopsis en una sola columna de texto (`soup`) para cada película. Esto se usará para vectorización."
      ],
      "metadata": {
        "id": "08Ac7zsdkobe"
      }
    },
    {
      "cell_type": "code",
      "source": [
        "\n",
        "# Combinar todas las características en una sola columna 'soup'\n",
        "def create_soup(x):\n",
        "    return ' '.join(x['keywords']) + ' ' + ' '.join(x['cast']) + ' ' + ' '.join(x['director']) + ' ' + ' '.join(x['genres']) + ' ' + x['overview']\n",
        "\n",
        "df['soup'] = df.apply(create_soup, axis=1)\n",
        "\n"
      ],
      "metadata": {
        "id": "Cmx6cIfcjRuV"
      },
      "execution_count": 30,
      "outputs": []
    },
    {
      "cell_type": "markdown",
      "source": [
        "## 5. Vectorización y Cálculo de Similitud\n",
        "Convertimos la columna `soup` en vectores TF-IDF para representar las características de las películas. Luego, calculamos la similitud coseno entre todas las películas para medir cuán parecidas son."
      ],
      "metadata": {
        "id": "AMijdctgkxPF"
      }
    },
    {
      "cell_type": "code",
      "source": [
        "# Vectorizar la 'soup'\n",
        "tfidf = TfidfVectorizer(stop_words='english')\n",
        "tfidf_matrix = tfidf.fit_transform(df['soup'])\n",
        "\n",
        "# Calcular matriz de similitud coseno\n",
        "cosine_sim = cosine_similarity(tfidf_matrix, tfidf_matrix)\n",
        "\n"
      ],
      "metadata": {
        "id": "tobCOk4tk13G"
      },
      "execution_count": null,
      "outputs": []
    },
    {
      "cell_type": "markdown",
      "source": [
        "\n",
        "## 6. Búsqueda Difusa y Recomendaciones\n",
        "\n",
        "Creamos una función que busca el título más cercano al ingresado (usando fuzzy matching) y devuelve las 10 películas más similares según la similitud coseno. Si no se encuentra una coincidencia razonable, se muestra un mensaje de error.\n",
        "\n"
      ],
      "metadata": {
        "id": "AL8GV6_Ck-mf"
      }
    },
    {
      "cell_type": "code",
      "source": [
        "# Crear un mapeo de títulos a índices\n",
        "indices = pd.Series(df.index, index=df['title']).drop_duplicates()\n",
        "\n",
        "# Función de recomendación con búsqueda difusa\n",
        "def get_recommendations(title, cosine_sim=cosine_sim, threshold=80):\n",
        "    # Buscar el título más cercano usando fuzzywuzzy\n",
        "    match = process.extractOne(title, df['title'], score_cutoff=threshold)\n",
        "    if not match:\n",
        "        return \"No se encontró ninguna película que coincida con el título proporcionado.\"\n",
        "\n",
        "    matched_title, score, _ = match\n",
        "    idx = indices[matched_title]\n",
        "\n",
        "    # Obtener recomendaciones basadas en el título encontrado\n",
        "    sim_scores = list(enumerate(cosine_sim[idx]))\n",
        "    sim_scores = sorted(sim_scores, key=lambda x: x[1], reverse=True)\n",
        "    sim_scores = sim_scores[1:11]  # Top 10 (excluyendo la película misma)\n",
        "\n",
        "    movie_indices = [i[0] for i in sim_scores]\n",
        "    recommendations = df['title'].iloc[movie_indices].tolist()\n",
        "\n",
        "    return f\"Película encontrada: {matched_title}\\nRecomendaciones:\\n\" + '\\n'.join([f\"{i+1}. {movie}\" for i, movie in enumerate(recommendations)])\n"
      ],
      "metadata": {
        "id": "7e8TfvqGk75I"
      },
      "execution_count": 31,
      "outputs": []
    },
    {
      "cell_type": "markdown",
      "source": [
        "## 7. Ejemplo de Uso\n",
        "\n",
        "Probamos el sistema con un título parcial o con errores tipográficos, como \"The lord of rings\", para obtener recomendaciones."
      ],
      "metadata": {
        "id": "bfZRYe88lGwk"
      }
    },
    {
      "cell_type": "code",
      "source": [
        "movieName = \"Movie: \"\n",
        "# Ejemplo de uso\n",
        "print(get_recommendations(input(movieName)))  # Prueba con una película conocida"
      ],
      "metadata": {
        "colab": {
          "base_uri": "https://localhost:8080/"
        },
        "id": "aH676h1wlHdd",
        "outputId": "41dd8f80-bf0c-4580-d54d-743cc12a0d41"
      },
      "execution_count": 32,
      "outputs": [
        {
          "output_type": "stream",
          "name": "stdout",
          "text": [
            "Movie: Harry Potter\n",
            "Película encontrada: Harry Potter and the Half-Blood Prince\n",
            "Recomendaciones:\n",
            "1. Harry Potter and the Goblet of Fire\n",
            "2. Harry Potter and the Order of the Phoenix\n",
            "3. Harry Potter and the Chamber of Secrets\n",
            "4. Harry Potter and the Prisoner of Azkaban\n",
            "5. Harry Potter and the Philosopher's Stone\n",
            "6. Into the Woods\n",
            "7. Driving Lessons\n",
            "8. The Little Prince\n",
            "9. Krull\n",
            "10. Sinbad: Legend of the Seven Seas\n"
          ]
        }
      ]
    }
  ]
}